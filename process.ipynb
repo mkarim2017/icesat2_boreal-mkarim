{
 "cells": [
  {
   "cell_type": "code",
   "execution_count": null,
   "id": "984d1053-68c6-4be1-b640-49a9833a466d",
   "metadata": {
    "tags": [
     "parameters"
    ]
   },
   "outputs": [],
   "source": [
    "in_atl08 = 'https://maap-ops-workspace.s3.us-west-2.amazonaws.com/lduncanson/dps_output/run_tile_atl08_ubuntu/tile_atl08/2022/04/18/19/34/10/907436/atl08_005_30m_filt_topo_landsat_20220418_0131.csv' # stage-in\n",
    "in_topo = 'https://maap-ops-workspace.s3.us-west-2.amazonaws.com/nathanmthomas/dps_output/do_topo_stack_3-1-5_ubuntu/ops/2021/09/15/18/37/26/218643/Copernicus_131_covars_cog_topo_stack.tif' # stage-in\n",
    "in_landsat = 'https://maap-ops-workspace.s3.us-west-2.amazonaws.com/nathanmthomas/dps_output/do_HLS_stack_3-1-2_ubuntu/master/2022/spring2022/03/24/21/05/47/781718/HLS_131_06-01_09-15_2019_2021.tif' # stage-in\n",
    "in_lc = 'https://maap-ops-workspace.s3.us-west-2.amazonaws.com/nathanmthomas/dps_output/run_build_stack_ubuntu/master/2022/09/15/16/53/38/462447/esa_worldcover_v100_2020_1920_cog.tif' # stage-in\n",
    "DO_SLOPE_VALID_MASK = True # bool\n",
    "in_atl08_sample = 'https://maap-ops-workspace.s3.us-west-2.amazonaws.com/lduncanson/boreal_train_data_v7.csv' # stage-in\n",
    "# [2269,2270, 2271, 2344, 2345,2346, 2175,2176,2177,2178,2249,2250,2251,2252]\n",
    "in_tile_num = 2269 # int\n",
    "in_tile = 'https://maap-ops-workspace.s3.amazonaws.com/shared/nathanmthomas/boreal_tiles_v003.gpkg' # stage-in\n",
    "in_tile_field = 'tile_num' # string\n",
    "iters = 10 # int\n",
    "ppside = 2 # int\n",
    "minDOY = 130 # int\n",
    "maxDOY = 250 # int\n",
    "max_sol_el = 5 # int\n",
    "expand_training = True # bool\n",
    "local_train_perc = 50 # int\n",
    "min_n = 5000 # int\n",
    "boreal_vect = 'https://maap-ops-workspace.s3.us-west-2.amazonaws.com/shared/nathanmthomas/analyze_agb/input_zones/wwf_circumboreal_Dissolve_reprj.geojson' # stage-in\n",
    "aws_access_key_id = 'aws_access_key_id' # string\n",
    "aws_secret_access_key = 'aws_secret_access_key' # string\n",
    "aws_session_token = 'aws_session_token' #string\n",
    "aws_region = 'aws_region' #string"
   ]
  },
  {
   "cell_type": "code",
   "execution_count": null,
   "id": "126f1d35",
   "metadata": {},
   "outputs": [],
   "source": [
    "in_atl08_fn = in_atl08[0]['path']\n",
    "in_topo_fn = in_topo[0]['path']\n",
    "in_landsat_fn = in_landsat[0]['path']\n",
    "in_lc_fn = in_lc[0]['path']\n",
    "in_atl08_sample_fn = in_atl08_sample[0]['path']\n",
    "in_tile_fn = in_tile[0]['path']\n",
    "boreal_vect_fn = boreal_vect[0]['path']\n",
    "in_tile_num = int(in_tile_num)\n",
    "aws_dir = os.path.join(os.path.expanduser('~'), \".aws\")\n",
    "if not os.path.exists(aws_dir):\n",
    "    os.makedirs(aws_dir)\n",
    "with open(os.path.join(aws_dir, \"credentials\"), 'w') as f:\n",
    "    f.write('[default]')\n",
    "    f.write('\\n')\n",
    "    f.write('aws_access_key_id = {}'.format(aws_access_key_id))\n",
    "    f.write('\\n')\n",
    "    f.write('aws_secret_access_key = {}'.format(aws_secret_access_key))\n",
    "    f.write('\\n')\n",
    "    f.write('aws_session_token = {}'.format(aws_session_token))\n",
    "    f.write('\\n')\n",
    "    f.write('output = json')\n",
    "    f.write('\\n')\n",
    "    f.write('region = {}'.format(aws_region))"
   ]
  },
  {
   "cell_type": "code",
   "execution_count": null,
   "id": "42ce04c7-7913-45cb-92f4-b74072082180",
   "metadata": {
    "collapsed": true,
    "jupyter": {
     "outputs_hidden": true
    },
    "tags": []
   },
   "outputs": [
    {
     "name": "stdout",
     "output_type": "stream",
     "text": [
      "Couldn't find program: 'bash'\n"
     ]
    }
   ],
   "source": [
    "%%bash -s \"$in_atl08_fn\" \"$in_topo_fn\" \"$in_landsat_fn\" \"$in_lc_fn\" \"$DO_SLOPE_VALID_MASK\" \"$in_atl08_sample_fn\" \"$in_tile_num\" \"$in_tile_fn\" \"$in_tile_field\" \"$iters\" \"$ppside\" \"$minDOY\" \"$maxDOY\" \"$max_sol_el\" \"$expand_training\" \"$local_train_perc\" \"$min_n\" \"$boreal_vect_fn\"\n",
    "# write a bash script here\n",
    "/bin/bash /home/jovyan/icesat2_boreal/dps/alg_3-4/run_boreal_biomass.sh \"${1}\" \"${2}\" \\\n",
    "    \"${3}\" \"${4}\" \"${5}\"    \\\n",
    "    \"${6}\" \"${7}\" \"${8}\"    \\\n",
    "    \"${9}\" \"${10}\" \"${11}\"  \\\n",
    "    \"${12}\" \"${13}\" \"${14}\" \\\n",
    "    \"${15}\" \"${16}\" \"${17}\" \\\n",
    "    \"${18}\""
   ]
  }
 ],
 "metadata": {
  "kernelspec": {
   "display_name": "Python 3 (ipykernel)",
   "language": "python",
   "name": "python3"
  },
  "language_info": {
   "codemirror_mode": {
    "name": "ipython",
    "version": 3
   },
   "file_extension": ".py",
   "mimetype": "text/x-python",
   "name": "python",
   "nbconvert_exporter": "python",
   "pygments_lexer": "ipython3",
   "version": "3.9.7"
  }
 },
 "nbformat": 4,
 "nbformat_minor": 5
}
